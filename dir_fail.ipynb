{
 "cells": [
  {
   "cell_type": "code",
   "execution_count": null,
   "metadata": {},
   "outputs": [
    {
     "name": "stdout",
     "output_type": "stream",
     "text": [
      "'C:\\Users\\tresh\\OneDrive - АО Казахстанско-Британский Технический Университет\\Рабочий стол\\lab-6\\dir_fail.ipynb' — это файл, а не папка.\n"
     ]
    }
   ],
   "source": [
    "file = open(\"example.txt\" , \"r\")\n",
    "\n",
    "print(file.readlines())"
   ]
  },
  {
   "cell_type": "code",
   "execution_count": null,
   "metadata": {},
   "outputs": [],
   "source": [
    "def Append(name):\n",
    "    file = open(f\"{name}\" , \"a\")\n",
    "    txt = input(\"Write your text:\\n\")\n",
    "\n",
    "    file.write(f\"\\n{txt}\")\n",
    "\n",
    "def Read(name):\n",
    "    file = open(f\"{name}\" , R\"r\")\n",
    "\n",
    "    print(file.read())   \n",
    "\n",
    "def Write(name):\n",
    "    file = open(f\"{name}\" , \"w\")\n",
    "    txt = input(\"Write your text:\\n\")\n",
    "\n",
    "    file.write(f\"{txt}\")\n",
    "\n",
    "\n",
    "file_name = input(\"Enter name of file: \")\n",
    "\n",
    "num = int(input(\"1-read\\n2-write\\n3-append\\n\"))\n",
    "\n",
    "if num == 1:\n",
    "    try:\n",
    "        Read(file_name)\n",
    "    except:\n",
    "        print(\"Your name of file is wrong\")\n",
    "\n",
    "elif num == 2:\n",
    "\n",
    "    try:\n",
    "        Write(file_name)\n",
    "    except:\n",
    "        print(\"Your name of file is wrong\")\n",
    "\n",
    "elif num == 3:\n",
    "\n",
    "    try:\n",
    "        Append(file_name)\n",
    "    except:\n",
    "        print(\"Your name of file is wrong\")\n",
    "\n",
    "else:\n",
    "    print(\"There is no such function\")\n",
    "\n",
    "\n",
    "\n",
    "\n"
   ]
  },
  {
   "cell_type": "code",
   "execution_count": null,
   "metadata": {},
   "outputs": [],
   "source": [
    "direction = input(\"Enter direction of file: \").strip()\n",
    "\n",
    "try:\n",
    "    with open(direction, \"r\") as file:  # Используем `with open`\n",
    "        print(file.read())\n",
    "\n",
    "except FileNotFoundError:\n",
    "    print(\"File not found. Check the path.\")\n",
    "\n",
    "except Exception as e:\n",
    "    print(f\"Error: {e}\")  \n"
   ]
  },
  {
   "cell_type": "code",
   "execution_count": null,
   "metadata": {},
   "outputs": [],
   "source": [
    "file = open(\"example.txt\" , \"r\")\n",
    "\n",
    "lines = file.readlines()\n",
    "\n",
    "print (f\"Number of lines: {len(lines)}\")"
   ]
  },
  {
   "cell_type": "code",
   "execution_count": null,
   "metadata": {},
   "outputs": [],
   "source": []
  },
  {
   "cell_type": "code",
   "execution_count": null,
   "metadata": {},
   "outputs": [],
   "source": [
    "size = int(input(\"Size if list: \"))\n",
    "\n",
    "lst = []\n",
    "\n",
    "for i in range(size):\n",
    "    num = input(f\"Element {i+1}: \")\n",
    "    lst.append(num)\n",
    "\n",
    "file = open(\"example.txt\" , \"a\")\n",
    "\n",
    "my_str =\"\\n\" + str(lst)\n",
    "\n",
    "file.write(my_str)\n",
    "\n"
   ]
  },
  {
   "cell_type": "code",
   "execution_count": null,
   "metadata": {},
   "outputs": [],
   "source": [
    "file1 = open(\"A.txt\" , \"r\")\n",
    "file2 = open(\"B.txt\" , \"w\")\n",
    "file2.write(f\"{file1.read()}\")"
   ]
  },
  {
   "cell_type": "code",
   "execution_count": null,
   "metadata": {},
   "outputs": [],
   "source": [
    "import os \n",
    "\n",
    "file_name = input(\"Write your file name: \")\n",
    " \n",
    "if os.path.exists(file_name):\n",
    "    os.remove(file_name)\n",
    "    print(\"The file is deleted\")\n",
    "else:\n",
    "    print('The file does not exists')"
   ]
  }
 ],
 "metadata": {
  "kernelspec": {
   "display_name": "Python 3",
   "language": "python",
   "name": "python3"
  },
  "language_info": {
   "codemirror_mode": {
    "name": "ipython",
    "version": 3
   },
   "file_extension": ".py",
   "mimetype": "text/x-python",
   "name": "python",
   "nbconvert_exporter": "python",
   "pygments_lexer": "ipython3",
   "version": "3.11.9"
  }
 },
 "nbformat": 4,
 "nbformat_minor": 2
}
